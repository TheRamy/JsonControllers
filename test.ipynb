{
 "cells": [
  {
   "cell_type": "code",
   "execution_count": 2,
   "metadata": {},
   "outputs": [],
   "source": [
    "#define data function \n",
    "\n",
    "import json\n",
    "\n",
    "def read_json():\n",
    "    with open('db.json', 'r') as f:\n",
    "       \n",
    "        return json.load(f)\n",
    "    \n"
   ]
  },
  {
   "cell_type": "code",
   "execution_count": 4,
   "metadata": {},
   "outputs": [
    {
     "name": "stdout",
     "output_type": "stream",
     "text": [
      "Does user exist?: False\n"
     ]
    }
   ],
   "source": [
    "#check if user email already exists\n",
    "def user_exists(email, data):\n",
    "    \"\"\"Checks if a user with a specific email exists in the database.\"\"\"\n",
    "\n",
    "    for user in data['PomodorosApp']['Users']:\n",
    "        if user['Email'] == email:\n",
    "            return True\n",
    "        else:\n",
    "            return False\n",
    "\n",
    "\n",
    "# should return True because user is in the json\n",
    "print(f\"Does user exist?:\", user_exists(\"tabali@tabali.nl\", read_json()))\n"
   ]
  },
  {
   "cell_type": "code",
   "execution_count": 5,
   "metadata": {},
   "outputs": [
    {
     "name": "stdout",
     "output_type": "stream",
     "text": [
      "User's projects are:  ['Project01', 'proooojeect', 'sdfsdf']\n"
     ]
    }
   ],
   "source": [
    "# print a list of all user's projects:\n",
    "def get_user_projects(email, data):\n",
    "    \"\"\"Returns a list of a user's projects.\"\"\"\n",
    "    for user in data['PomodorosApp']['Users']:\n",
    "        if user['Email'] == email:\n",
    "            return [project['ProjectName'] for project in user['Projects']]        #perfect way to append to list \n",
    "        else :\n",
    "            return []\n",
    "\n",
    "\n",
    "print(\"User's projects are: \", get_user_projects(\"ramy@ramy.nl\", read_json()))\n"
   ]
  },
  {
   "cell_type": "code",
   "execution_count": 6,
   "metadata": {},
   "outputs": [],
   "source": [
    "#save json file after adding removing or updating data\n",
    "def save_json(data):\n",
    "    with open(\"db.json\", 'w') as f:\n",
    "        json.dump(data, f)\n"
   ]
  },
  {
   "cell_type": "code",
   "execution_count": 7,
   "metadata": {},
   "outputs": [
    {
     "name": "stdout",
     "output_type": "stream",
     "text": [
      "Adding project to user (should return true if added):  Project coool project already exists.\n"
     ]
    }
   ],
   "source": [
    "\n",
    "def add_project(user_email, project_name):\n",
    "\n",
    "    data = read_json()\n",
    "    \n",
    "    #next iterate =s over a list or iterator(all users emails) and here in this example checks if the user emails \n",
    "    # equal to a value or not (checking if user exists)\n",
    "\n",
    "    user = next((u for u in data[\"PomodorosApp\"][\"Users\"] if u[\"Email\"] == user_email), None)\n",
    "\n",
    "    if user is None:\n",
    "        return (f\"No user found with email {user_email}\")\n",
    "    elif any(p[\"ProjectName\"] == project_name for p in user[\"Projects\"]):\n",
    "        return (f\"Project {project_name} already exists.\")\n",
    "    else:\n",
    "        # Create a new project\n",
    "        new_project = {\n",
    "            \"ProjectName\": project_name,\n",
    "            \"ProjectTotalTrackedTime\": \"0\",\n",
    "            \"Subjects\": []\n",
    "        }\n",
    "        user[\"Projects\"].append(new_project)\n",
    "        save_json(data)\n",
    "        return True\n",
    "    \n",
    "print(\"Adding project to user (should return true if added): \",\n",
    "      add_project(\"whatever@cool.com\", \"coool project\"))\n"
   ]
  },
  {
   "cell_type": "code",
   "execution_count": 8,
   "metadata": {},
   "outputs": [
    {
     "name": "stdout",
     "output_type": "stream",
     "text": [
      "user already exist!\n"
     ]
    }
   ],
   "source": [
    "def create_user(email, name):\n",
    "    data = read_json()\n",
    "    new_user = {\n",
    "        \"Email\": email,\n",
    "        \"Name\": name,\n",
    "        # in the project's PDF, it says the the user's email should be included by default in the Recipients list\n",
    "        \"Recipients\": [email],\n",
    "        \"Projects\": []\n",
    "    }\n",
    "    data[\"PomodorosApp\"][\"Users\"].append(new_user)\n",
    "    save_json(data)\n",
    "\n",
    "#example################################################\n",
    "\n",
    "\n",
    "newUserName = \"Ramy\"\n",
    "newUserEmail = \"ramy@ramy.nl\"  # try with a different email\n",
    "data = read_json()\n",
    "\n",
    "if not user_exists(newUserEmail, data):\n",
    "    create_user(newUserEmail, newUserName)\n",
    "    print(\"User created.\")\n",
    "else:\n",
    "    print(\"user already exist!\")\n"
   ]
  },
  {
   "cell_type": "code",
   "execution_count": 9,
   "metadata": {},
   "outputs": [
    {
     "name": "stdout",
     "output_type": "stream",
     "text": [
      "List of subjects under a specific project []\n"
     ]
    }
   ],
   "source": [
    "\n",
    "# show subjects under a specifc project\n",
    "\n",
    "def get_project_subjects(email, project_name, data):\n",
    "    \"\"\"Returns a list of subjects under a specific project for a user.\"\"\"\n",
    "    for user in data['PomodorosApp']['Users']:\n",
    "        if user['Email'] == email:\n",
    "            for project in user['Projects']:\n",
    "                if project['ProjectName'] == project_name:\n",
    "                    return [subject['SubjectName'] for subject in project['Subjects']]\n",
    "    else:\n",
    "        return []\n",
    "\n",
    "data = read_json()\n",
    "print(\"List of subjects under a specific project\",\n",
    "      get_project_subjects(\"whatever@cool.com\", \"cool project\", data))\n",
    "\n",
    "\n"
   ]
  },
  {
   "cell_type": "code",
   "execution_count": 22,
   "metadata": {},
   "outputs": [
    {
     "name": "stdout",
     "output_type": "stream",
     "text": [
      "adding subject under project: True\n"
     ]
    }
   ],
   "source": [
    "def add_subject(user_email, project_name, subject_name):\n",
    "    data = read_json()\n",
    "    user = next((u for u in data[\"PomodorosApp\"][\"Users\"] if u[\"Email\"] == user_email),None)\n",
    "    project = next((p for p in user[\"Projects\"] if p[\"ProjectName\"] == project_name), None)\n",
    "\n",
    "    if user is None:\n",
    "        return (f\"No user found with email {user_email}\")\n",
    "    elif project is None:\n",
    "        return (f\"No project found with name {project_name}\")\n",
    "    else:\n",
    "        new_subject = {\n",
    "            \"SubjectName\": subject_name,\n",
    "            \"SubjectTotalTrackedTime\": \"0\",\n",
    "            \"PomodoroSessions\": []\n",
    "        }\n",
    "        project[\"Subjects\"].append(new_subject)\n",
    "        save_json(data)\n",
    "        return True\n",
    "\n",
    "\n",
    "newSubject = \"Math\"\n",
    "add = add_subject('whatever@cool.com', 'coool project', newSubject)       #look t this put function into variables then print them\n",
    "\n",
    "print(\"adding subject under project:\", add)\n"
   ]
  },
  {
   "cell_type": "code",
   "execution_count": 41,
   "metadata": {},
   "outputs": [
    {
     "name": "stdout",
     "output_type": "stream",
     "text": [
      "adding pomodoro session for subject : True\n"
     ]
    }
   ],
   "source": [
    "#New Function\n",
    "# is_task_completed(email, project_name, subject_name, task_name, data) # should return True or False\n",
    "#to do this task we can first to define a pomodoro session adder and task\n",
    "def add_pomodoro_session(user_email, project_name, subject_name):\n",
    "    data = read_json()\n",
    "    user = next((u for u in data[\"PomodorosApp\"]\n",
    "                [\"Users\"] if u[\"Email\"] == user_email), None)\n",
    "    project = next((p for p in user[\"Projects\"]\n",
    "                   if p[\"ProjectName\"] == project_name), None)\n",
    "    subject = next((s for s in project[\"Subjects\"]\n",
    "                   if s[\"SubjectName\"] == subject_name), None)\n",
    "\n",
    "    if user is None:\n",
    "        return (f\"No user found with email {user_email}\")\n",
    "    elif project is None:\n",
    "        return (f\"No project found with name {project_name}\")\n",
    "    elif subject is None:\n",
    "        return (f\"No project found with name {subject_name}\")\n",
    "    else:\n",
    "        new_session = {\n",
    "            \"StartTimestamp\": \" \",\n",
    "            \"EndTimestamp\": \" \",\n",
    "            \"Tasks\": []\n",
    "            \n",
    "        }\n",
    "        subject[\"PomodoroSessions\"].append(new_session)\n",
    "        save_json(data)\n",
    "        return True\n",
    "\n",
    "\n",
    "# example \n",
    "add = add_pomodoro_session(\"whatever@cool.com\", \"coool project\", \"Math\")\n",
    "\n",
    "print(\"adding pomodoro session for subject :\", add)\n"
   ]
  },
  {
   "cell_type": "code",
   "execution_count": 43,
   "metadata": {},
   "outputs": [
    {
     "name": "stdout",
     "output_type": "stream",
     "text": [
      "adding tasks to pomodoro session : True\n"
     ]
    }
   ],
   "source": [
    "#New function\n",
    "# is_task_completed(email, project_name, subject_name, task_name, data) # should return True or False\n",
    "#to do this task we can first to define a pomodoro session adder and task adder\n",
    "def add_task(user_email, project_name, subject_name):\n",
    "    data = read_json()\n",
    "    user = next((u for u in data[\"PomodorosApp\"]\n",
    "                [\"Users\"] if u[\"Email\"] == user_email), None)\n",
    "    project = next((p for p in user[\"Projects\"]\n",
    "                   if p[\"ProjectName\"] == project_name), None)\n",
    "    subject = next((s for s in project[\"Subjects\"]\n",
    "                   if s[\"SubjectName\"] == subject_name), None)\n",
    "    session = next((ps for ps in subject[\"PomodoroSessions\"] ),None)\n",
    "\n",
    "    if user is None:\n",
    "        return (f\"No user found with email {user_email}\")\n",
    "    elif project is None:\n",
    "        return (f\"No project found with name {project_name}\")\n",
    "    elif subject is None:\n",
    "        return (f\"No project found with name {subject_name}\")\n",
    "    elif session is None:\n",
    "        return (f\"No session found under {subject_name} subject\")\n",
    "    else:\n",
    "        new_task = {\n",
    "            \"TaskName\": \"Algabra\",\n",
    "            \"Completed\": \"True\"\n",
    "            \n",
    "        }\n",
    "        session[\"Tasks\"].append(new_task)\n",
    "        save_json(data)\n",
    "        return True\n",
    "\n",
    "\n",
    "# example \n",
    "add = add_task(\"whatever@cool.com\", \"coool project\", \"Math\")\n",
    "\n",
    "print(\"adding tasks to pomodoro session :\", add)\n"
   ]
  }
 ],
 "metadata": {
  "kernelspec": {
   "display_name": "Python 3",
   "language": "python",
   "name": "python3"
  },
  "language_info": {
   "codemirror_mode": {
    "name": "ipython",
    "version": 3
   },
   "file_extension": ".py",
   "mimetype": "text/x-python",
   "name": "python",
   "nbconvert_exporter": "python",
   "pygments_lexer": "ipython3",
   "version": "3.11.1"
  },
  "orig_nbformat": 4,
  "vscode": {
   "interpreter": {
    "hash": "a7c7e4d91e9599298931c20b0b87a64b8291f4bc533403289b8ed7f44858848d"
   }
  }
 },
 "nbformat": 4,
 "nbformat_minor": 2
}
