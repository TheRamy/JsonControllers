{
 "cells": [
  {
   "cell_type": "code",
   "execution_count": 6,
   "metadata": {},
   "outputs": [],
   "source": [
    "#define data function \n",
    "\n",
    "import json\n",
    "\n",
    "def read_json():\n",
    "    with open('db.json', 'r') as f:\n",
    "       \n",
    "        return json.load(f)\n",
    "    \n"
   ]
  },
  {
   "cell_type": "code",
   "execution_count": 7,
   "metadata": {},
   "outputs": [
    {
     "name": "stdout",
     "output_type": "stream",
     "text": [
      "Does user exist?: False\n"
     ]
    }
   ],
   "source": [
    "#check if user email already exists\n",
    "def user_exists(email, data):\n",
    "    \"\"\"Checks if a user with a specific email exists in the database.\"\"\"\n",
    "\n",
    "    for user in data['PomodorosApp']['Users']:\n",
    "        if user['Email'] == email:\n",
    "            return True\n",
    "        else:\n",
    "            return False\n",
    "\n",
    "\n",
    "# should return True because user is in the json\n",
    "print(f\"Does user exist?:\", user_exists(\"tabali@tabali.nl\", read_json()))\n"
   ]
  },
  {
   "cell_type": "code",
   "execution_count": 8,
   "metadata": {},
   "outputs": [
    {
     "name": "stdout",
     "output_type": "stream",
     "text": [
      "User's projects are:  ['Project01', 'proooojeect', 'sdfsdf']\n"
     ]
    }
   ],
   "source": [
    "# print a list of all user's projects:\n",
    "def get_user_projects(email, data):\n",
    "    \"\"\"Returns a list of a user's projects.\"\"\"\n",
    "    for user in data['PomodorosApp']['Users']:\n",
    "        if user['Email'] == email:\n",
    "            return [project['ProjectName'] for project in user['Projects']]        #perfect way to append to list \n",
    "        else :\n",
    "            return []\n",
    "\n",
    "\n",
    "print(\"User's projects are: \", get_user_projects(\"ramy@ramy.nl\", read_json()))\n"
   ]
  },
  {
   "cell_type": "code",
   "execution_count": 9,
   "metadata": {},
   "outputs": [],
   "source": [
    "#save json file after adding removing or updating data\n",
    "def save_json(data):\n",
    "    with open(\"db.json\", 'w') as f:\n",
    "        json.dump(data, f)\n"
   ]
  },
  {
   "cell_type": "code",
   "execution_count": 10,
   "metadata": {},
   "outputs": [
    {
     "name": "stdout",
     "output_type": "stream",
     "text": [
      "Adding project to user (should return true if added):  Project coool project already exists.\n"
     ]
    }
   ],
   "source": [
    "\n",
    "def add_project(user_email, project_name):\n",
    "\n",
    "    data = read_json()\n",
    "    \n",
    "    #next iterate =s over a list or iterator(all users emails) and here in this example checks if the user emails \n",
    "    # equal to a value or not (checking if user exists)\n",
    "\n",
    "    user = next((u for u in data[\"PomodorosApp\"][\"Users\"] if u[\"Email\"] == user_email), None)\n",
    "\n",
    "    if user is None:\n",
    "        return (f\"No user found with email {user_email}\")\n",
    "    elif any(p[\"ProjectName\"] == project_name for p in user[\"Projects\"]):\n",
    "        return (f\"Project {project_name} already exists.\")\n",
    "    else:\n",
    "        # Create a new project\n",
    "        new_project = {\n",
    "            \"ProjectName\": project_name,\n",
    "            \"ProjectTotalTrackedTime\": \"0\",\n",
    "            \"Subjects\": []\n",
    "        }\n",
    "        user[\"Projects\"].append(new_project)\n",
    "        save_json(data)\n",
    "        return True\n",
    "    \n",
    "print(\"Adding project to user (should return true if added): \",\n",
    "      add_project(\"whatever@cool.com\", \"coool project\"))\n"
   ]
  },
  {
   "cell_type": "code",
   "execution_count": 11,
   "metadata": {},
   "outputs": [
    {
     "name": "stdout",
     "output_type": "stream",
     "text": [
      "User created.\n"
     ]
    }
   ],
   "source": [
    "def create_user(email, name):\n",
    "    data = read_json()\n",
    "    new_user = {\n",
    "        \"Email\": email,\n",
    "        \"Name\": name,\n",
    "        # in the project's PDF, it says the the user's email should be included by default in the Recipients list\n",
    "        \"Recipients\": [email],\n",
    "        \"Projects\": []\n",
    "    }\n",
    "    data[\"PomodorosApp\"][\"Users\"].append(new_user)\n",
    "    save_json(data)\n",
    "\n",
    "#example################################################\n",
    "\n",
    "\n",
    "newUserName = \"Tabali\"\n",
    "newUserEmail = \"altbalybalrhmn@gmail.com\"  # try with a different email\n",
    "data = read_json()\n",
    "\n",
    "if not user_exists(newUserEmail, data):\n",
    "    create_user(newUserEmail, newUserName)\n",
    "    print(\"User created.\")\n",
    "else:\n",
    "    print(\"user already exist!\")\n"
   ]
  },
  {
   "cell_type": "code",
   "execution_count": 9,
   "metadata": {},
   "outputs": [
    {
     "name": "stdout",
     "output_type": "stream",
     "text": [
      "List of subjects under a specific project []\n"
     ]
    }
   ],
   "source": [
    "\n",
    "# show subjects under a specifc project\n",
    "\n",
    "def get_project_subjects(email, project_name, data):\n",
    "    \"\"\"Returns a list of subjects under a specific project for a user.\"\"\"\n",
    "    for user in data['PomodorosApp']['Users']:\n",
    "        if user['Email'] == email:\n",
    "            for project in user['Projects']:\n",
    "                if project['ProjectName'] == project_name:\n",
    "                    return [subject['SubjectName'] for subject in project['Subjects']]\n",
    "    else:\n",
    "        return []\n",
    "\n",
    "data = read_json()\n",
    "print(\"List of subjects under a specific project\",\n",
    "      get_project_subjects(\"whatever@cool.com\", \"cool project\", data))\n",
    "\n",
    "\n"
   ]
  },
  {
   "cell_type": "code",
   "execution_count": 22,
   "metadata": {},
   "outputs": [
    {
     "name": "stdout",
     "output_type": "stream",
     "text": [
      "adding subject under project: True\n"
     ]
    }
   ],
   "source": [
    "def add_subject(user_email, project_name, subject_name):\n",
    "    data = read_json()\n",
    "    user = next((u for u in data[\"PomodorosApp\"][\"Users\"] if u[\"Email\"] == user_email),None)\n",
    "    project = next((p for p in user[\"Projects\"] if p[\"ProjectName\"] == project_name), None)\n",
    "\n",
    "    if user is None:\n",
    "        return (f\"No user found with email {user_email}\")\n",
    "    elif project is None:\n",
    "        return (f\"No project found with name {project_name}\")\n",
    "    else:\n",
    "        new_subject = {\n",
    "            \"SubjectName\": subject_name,\n",
    "            \"SubjectTotalTrackedTime\": \"0\",\n",
    "            \"PomodoroSessions\": []\n",
    "        }\n",
    "        project[\"Subjects\"].append(new_subject)\n",
    "        save_json(data)\n",
    "        return True\n",
    "\n",
    "\n",
    "newSubject = \"Math\"\n",
    "add = add_subject('whatever@cool.com', 'coool project', newSubject)       #look t this put function into variables then print them\n",
    "\n",
    "print(\"adding subject under project:\", add)\n"
   ]
  },
  {
   "cell_type": "code",
   "execution_count": 21,
   "metadata": {},
   "outputs": [
    {
     "name": "stdout",
     "output_type": "stream",
     "text": [
      "adding pomodoro session for subject : True\n"
     ]
    }
   ],
   "source": [
    "#New Tabali\n",
    "# is_task_completed(email, project_name, subject_name, task_name, data) # should return True or False\n",
    "#to do this task we can first to define a pomodoro session adder and task\n",
    "def add_pomodoro_session(user_email, project_name, subject_name):\n",
    "    data = read_json()\n",
    "    user = next((u for u in data[\"PomodorosApp\"]\n",
    "                [\"Users\"] if u[\"Email\"] == user_email), None)\n",
    "    project = next((p for p in user[\"Projects\"]\n",
    "                   if p[\"ProjectName\"] == project_name), None)\n",
    "    subject = next((s for s in project[\"Subjects\"]\n",
    "                   if s[\"SubjectName\"] == subject_name), None)\n",
    "\n",
    "    if user is None:\n",
    "        return (f\"No user found with email {user_email}\")\n",
    "    elif project is None:\n",
    "        return (f\"No project found with name {project_name}\")\n",
    "    elif subject is None:\n",
    "        return (f\"No project found with name {subject_name}\")\n",
    "    else:\n",
    "        new_session = {\n",
    "            \"StartTimestamp\": \" \",\n",
    "            \"EndTimestamp\": \" \",\n",
    "            \"Tasks\": []\n",
    "            \n",
    "        }\n",
    "        subject[\"PomodoroSessions\"].append(new_session)\n",
    "        save_json(data)\n",
    "        return True\n",
    "\n",
    "\n",
    "# example \n",
    "add = add_pomodoro_session(\"whatever@cool.com\", \"coool project\", \"Math\")\n",
    "\n",
    "print(\"adding pomodoro session for subject :\", add)\n"
   ]
  },
  {
   "cell_type": "code",
   "execution_count": 22,
   "metadata": {},
   "outputs": [
    {
     "name": "stdout",
     "output_type": "stream",
     "text": [
      "adding tasks to pomodoro session : True\n"
     ]
    }
   ],
   "source": [
    "#New Tabali\n",
    "# is_task_completed(email, project_name, subject_name, task_name, data) # should return True or False\n",
    "#to do this task we can first to define a pomodoro session adder and task adder\n",
    "def add_task(user_email, project_name, subject_name):\n",
    "    data = read_json()\n",
    "    user = next((u for u in data[\"PomodorosApp\"]\n",
    "                [\"Users\"] if u[\"Email\"] == user_email), None)\n",
    "    project = next((p for p in user[\"Projects\"]\n",
    "                   if p[\"ProjectName\"] == project_name), None)\n",
    "    subject = next((s for s in project[\"Subjects\"]\n",
    "                   if s[\"SubjectName\"] == subject_name), None)\n",
    "    session = next((ps for ps in subject[\"PomodoroSessions\"] ),None)\n",
    "\n",
    "    if user is None:\n",
    "        return (f\"No user found with email {user_email}\")\n",
    "    elif project is None:\n",
    "        return (f\"No project found with name {project_name}\")\n",
    "    elif subject is None:\n",
    "        return (f\"No project found with name {subject_name}\")\n",
    "    elif session is None:\n",
    "        return (f\"No session found under {subject_name} subject\")\n",
    "    else:\n",
    "        new_task = {\n",
    "            \"TaskName\": \"Algabra\",\n",
    "            \"Completed\": \"True\"\n",
    "            \n",
    "        }\n",
    "        session[\"Tasks\"].append(new_task)\n",
    "        save_json(data)\n",
    "        return True\n",
    "\n",
    "\n",
    "# example \n",
    "add = add_task(\"whatever@cool.com\", \"coool project\", \"Math\")\n",
    "\n",
    "print(\"adding tasks to pomodoro session :\", add)\n"
   ]
  },
  {
   "cell_type": "code",
   "execution_count": 23,
   "metadata": {},
   "outputs": [
    {
     "name": "stdout",
     "output_type": "stream",
     "text": [
      "The name of the user is Ramy\n"
     ]
    }
   ],
   "source": [
    "#New Tabali\n",
    "# get_username_from_email(email, data) \n",
    "# you have a user's email address, return their name from the json\n",
    "\n",
    "def get_username_from_email(email, data):\n",
    "    \n",
    "    for user in data['PomodorosApp']['Users']:\n",
    "        if user['Email'] == email:\n",
    "            return user['Name']\n",
    "    else:\n",
    "        return []\n",
    "\n",
    "\n",
    "data = read_json()\n",
    "name = get_username_from_email(\"ramy@ramy.nl\", data)\n",
    "print(f\"The name of the user is {name}\")\n",
    "     \n"
   ]
  },
  {
   "cell_type": "code",
   "execution_count": 24,
   "metadata": {},
   "outputs": [
    {
     "name": "stdout",
     "output_type": "stream",
     "text": [
      "The tasks you are looking for are: ['Algabra', 'Calculus', 'Algabra']\n"
     ]
    }
   ],
   "source": [
    "#New Tabali\n",
    "# get_subject_task_names(email, project_name, subject_name, data) should return the task names for each task under a specific subject.\n",
    "def get_subject_task_names(email, project_name, subject_name, data):\n",
    "    for user in data['PomodorosApp']['Users']:\n",
    "        if email == user[\"Email\"]:\n",
    "            for project in user['Projects']:\n",
    "                if  project_name ==project[\"ProjectName\"] :\n",
    "                    for subject in project['Subjects']:\n",
    "                        if subject_name ==subject[\"SubjectName\"]:\n",
    "                            for session in subject['PomodoroSessions']:\n",
    "                                return [task['TaskName'] for task in session['Tasks']]\n",
    "        \n",
    "    else:\n",
    "        return []\n",
    "\n",
    "\n",
    "data = read_json()\n",
    "tsk = get_subject_task_names(\n",
    "    \"whatever@cool.com\", \"coool project\", \"Math\", data)\n",
    "print(f\"The tasks you are looking for are: {tsk}\")\n"
   ]
  },
  {
   "cell_type": "code",
   "execution_count": 12,
   "metadata": {},
   "outputs": [
    {
     "name": "stdout",
     "output_type": "stream",
     "text": [
      "altbalybalrhmn@gmail.com has been added to recipient list\n"
     ]
    },
    {
     "data": {
      "text/plain": [
       "True"
      ]
     },
     "execution_count": 12,
     "metadata": {},
     "output_type": "execute_result"
    }
   ],
   "source": [
    "#New Tabali \n",
    "# add recipients function in order to get recipients.\n",
    "\n",
    "def add_recipients(email,rec_email,data):\n",
    "    data = read_json()\n",
    "    for user in data[\"PomodorosApp\"][\"Users\"]:\n",
    "        if user[\"Email\"] == email:\n",
    "            user[\"Recipients\"].append(rec_email)\n",
    "            print(f\"{rec_email} has been added to recipient list\")\n",
    "            save_json(data)\n",
    "            return True\n",
    "        else :\n",
    "            pass\n",
    "\n",
    "add_recipients(\"whatever@cool.com\", \"altbalybalrhmn@gmail.com\",data)\n",
    "\n",
    "\n",
    "\n",
    "\n",
    "\n"
   ]
  },
  {
   "cell_type": "code",
   "execution_count": 35,
   "metadata": {},
   "outputs": [
    {
     "name": "stdout",
     "output_type": "stream",
     "text": [
      "['ramy@ramy.nl', 'two@ramy.nl']\n"
     ]
    }
   ],
   "source": [
    "#New Tabali\n",
    "# get_user_recipients(email, data) # should return a list with the emails\n",
    "\n",
    "def get_user_recipients(email, data):\n",
    "    \n",
    "    for user in data[\"PomodorosApp\"][\"Users\"]:\n",
    "        if user[\"Email\"] == email:\n",
    "            return user[\"Recipients\"]\n",
    "    else:\n",
    "        pass\n",
    "\n",
    "\n",
    "data = read_json()\n",
    "recipient_emails=get_user_recipients(\"ramy@ramy.nl\",data)\n",
    "print(recipient_emails)\n"
   ]
  },
  {
   "cell_type": "code",
   "execution_count": 6,
   "metadata": {},
   "outputs": [
    {
     "name": "stdout",
     "output_type": "stream",
     "text": [
      "90\n"
     ]
    }
   ],
   "source": [
    "#New Tabali\n",
    "# should returns the total time on the project result\n",
    "def get_project_total_time(email, project_name, data):\n",
    "    for user in data[\"PomodorosApp\"][\"Users\"]:\n",
    "        if  user['Email'] == email:\n",
    "            for project in user[\"Projects\"]:\n",
    "                if project[\"ProjectName\"] == project_name:\n",
    "                    return project[\"ProjectTotalTrackedTime\"]\n",
    "    return []\n",
    "\n",
    "data = read_json()\n",
    "project_total_time = get_project_total_time('ramy@ramy.nl', 'Project01',data)\n",
    "print(project_total_time)\n",
    "\n",
    "\n",
    "\n",
    "    \n",
    "\n",
    "\n"
   ]
  },
  {
   "cell_type": "code",
   "execution_count": 1,
   "metadata": {},
   "outputs": [],
   "source": [
    "import json\n",
    "import re\n",
    "\n",
    "from time import time\n",
    "from PyQt5 import QtWidgets\n",
    "from PyQt5.QtWidgets import QDialog, QApplication\n",
    "from PyQt5.uic import loadUi\n",
    "import sys\n",
    "\n",
    "from PyQt5 import QtWidgets\n",
    "from PyQt5.QtWidgets import QDialog, QApplication\n",
    "from PyQt5.uic import loadUi\n",
    "import smtplib\n",
    "from email.message import EmailMessage\n",
    "import ssl\n"
   ]
  },
  {
   "cell_type": "code",
   "execution_count": null,
   "metadata": {},
   "outputs": [],
   "source": [
    "def get_the_data_from_table(self):\n",
    "    rowcount = self.summaryTableValuesWidget.rowCount()\n",
    "    columcount = self.summaryTableValuesWidget.columnCount()\n",
    "    for row in range(rowcount):\n",
    "        rowdata = ''\n",
    "        for column in range(columcount):\n",
    "             widgetItem = self.summaryTableValuesWidget.item(row, column)\n",
    "              if widgetItem and widgetItem.text:\n",
    "                   rowdata = rowdata + '-' + widgetItem.text()\n",
    "               else:\n",
    "                   rowdata = rowdata + '-' + 'NULL'\n",
    "\n",
    "                   print(rowdata + '\\n')\n"
   ]
  },
  {
   "cell_type": "code",
   "execution_count": 21,
   "metadata": {},
   "outputs": [
    {
     "name": "stdout",
     "output_type": "stream",
     "text": [
      "login success\n",
      "Email has been sent \n"
     ]
    }
   ],
   "source": [
    "def send_the_summary(sender_email, password, reciver_email, email_subject, email_body, data ):\n",
    "    for user in data[\"PomodorosApp\"][\"Users\"]:\n",
    "        if user[\"Email\"] == sender_email and reciver_email in user[\"Recipients\"]:\n",
    "            em = EmailMessage()\n",
    "            em['From'] = sender_email\n",
    "            em['To'] = reciver_email\n",
    "            em['Subject'] = email_subject\n",
    "            em.set_content(email_body)\n",
    "            context = ssl.create_default_context\n",
    "            sever = smtplib.SMTP('smtp.gmail.com', 587)\n",
    "            sever.starttls()\n",
    "            sever.login(sender_email, password)\n",
    "            print(\"login success\")\n",
    "            sever.sendmail(sender_email, reciver_email, em.as_string())\n",
    "            print(\"Email has been sent \")\n",
    "\n",
    "\n",
    "email_subject = 'recruitment message'\n",
    "# when we add it to the py file we can replace it with self.get_the_data_from_table()\n",
    "email_body = \"Dear Abdulrhman, congrats! You have got a job in our company\"\n",
    "data = read_json()\n",
    "send_the_summary(\"altbalybalrhmn@gmail.com\",\"wrsrswxvqgygnzpd\",\n",
    "                 \"altbalybalrhmn@gmail.com\",email_subject,email_body,data)\n"
   ]
  }
 ],
 "metadata": {
  "kernelspec": {
   "display_name": "Python 3",
   "language": "python",
   "name": "python3"
  },
  "language_info": {
   "codemirror_mode": {
    "name": "ipython",
    "version": 3
   },
   "file_extension": ".py",
   "mimetype": "text/x-python",
   "name": "python",
   "nbconvert_exporter": "python",
   "pygments_lexer": "ipython3",
   "version": "3.11.1"
  },
  "orig_nbformat": 4,
  "vscode": {
   "interpreter": {
    "hash": "a7c7e4d91e9599298931c20b0b87a64b8291f4bc533403289b8ed7f44858848d"
   }
  }
 },
 "nbformat": 4,
 "nbformat_minor": 2
}
